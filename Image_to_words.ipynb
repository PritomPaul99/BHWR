{
 "cells": [
  {
   "cell_type": "code",
   "execution_count": 1,
   "metadata": {},
   "outputs": [],
   "source": [
    "import json\n",
    "from PIL import Image\n",
    "import os"
   ]
  },
  {
   "cell_type": "code",
   "execution_count": 5,
   "metadata": {},
   "outputs": [
    {
     "name": "stdout",
     "output_type": "stream",
     "text": [
      "Cropping and saving completed.\n"
     ]
    },
    {
     "ename": "",
     "evalue": "",
     "output_type": "error",
     "traceback": [
      "\u001b[1;31mThe Kernel crashed while executing code in the the current cell or a previous cell. Please review the code in the cell(s) to identify a possible cause of the failure. Click <a href='https://aka.ms/vscodeJupyterKernelCrash'>here</a> for more info. View Jupyter <a href='command:jupyter.viewOutput'>log</a> for further details."
     ]
    }
   ],
   "source": [
    "def crop_and_save(image_path, json_data, output_folder):\n",
    "    image = Image.open(image_path)\n",
    "    image_name = os.path.splitext(os.path.basename(image_path))[0]\n",
    "\n",
    "    shapes = json_data[\"shapes\"]\n",
    "\n",
    "    for idx, shape in enumerate(shapes):\n",
    "        label = shape[\"label\"]\n",
    "        points = shape[\"points\"]\n",
    "\n",
    "        points = [(int(point[0]), int(point[1])) for point in points]\n",
    "\n",
    "        points.sort()\n",
    "\n",
    "        x1, y1 = points[0]\n",
    "        x2, y2 = points[1]\n",
    "\n",
    "        if x1 >= x2 or y1 >= y2:\n",
    "            x1, x2 = min(x1, x2), max(x1, x2)\n",
    "            y1, y2 = min(y1, y2), max(y1, y2)\n",
    "\n",
    "            if x1 >= x2 or y1 >= y2:\n",
    "                raise ValueError(\"Invalid cropping coordinates. 'lower' must be less than 'upper'.\")\n",
    "\n",
    "        word_image = image.crop((x1, y1, x2, y2))\n",
    "\n",
    "        output_image_name = f\"{image_name}_{str(idx + 1).zfill(3)}.jpg\"\n",
    "        word_image.save(os.path.join(output_folder, output_image_name))\n",
    "\n",
    "        output_text_name = f\"{image_name}_{str(idx + 1).zfill(3)}.txt\"\n",
    "        output_text_path = os.path.join(output_folder, output_text_name)\n",
    "        with open(output_text_path, \"w\", encoding=\"utf-8\") as text_file:\n",
    "            text_file.write(label)\n",
    "            \n",
    "            \n",
    "if __name__ == \"__main__\":\n",
    "    input_folder = \"converted\"\n",
    "    output_folder = \"wordlevel_data\"\n",
    "\n",
    "    for image_file in os.listdir(input_folder):\n",
    "        if image_file.endswith(\".jpg\"):\n",
    "            image_path = os.path.join(input_folder, image_file)\n",
    "            json_path = os.path.join(input_folder, image_file.replace(\".jpg\", \".json\"))\n",
    "\n",
    "            with open(json_path, \"r\", encoding=\"utf-8\") as json_file:\n",
    "                json_data = json.load(json_file)\n",
    "\n",
    "            os.makedirs(output_folder, exist_ok=True)\n",
    "\n",
    "            crop_and_save(image_path, json_data, output_folder)\n",
    "\n",
    "    print(\"Cropping and saving completed.\")"
   ]
  },
  {
   "cell_type": "code",
   "execution_count": null,
   "metadata": {},
   "outputs": [],
   "source": []
  }
 ],
 "metadata": {
  "kernelspec": {
   "display_name": "base",
   "language": "python",
   "name": "python3"
  },
  "language_info": {
   "codemirror_mode": {
    "name": "ipython",
    "version": 3
   },
   "file_extension": ".py",
   "mimetype": "text/x-python",
   "name": "python",
   "nbconvert_exporter": "python",
   "pygments_lexer": "ipython3",
   "version": "3.11.3"
  }
 },
 "nbformat": 4,
 "nbformat_minor": 2
}
